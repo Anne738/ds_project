{
 "cells": [
  {
   "cell_type": "code",
   "execution_count": 39,
   "id": "f3301934",
   "metadata": {},
   "outputs": [
    {
     "name": "stderr",
     "output_type": "stream",
     "text": [
      "C:\\Users\\annbu\\anaconda3\\lib\\site-packages\\scipy\\__init__.py:146: UserWarning: A NumPy version >=1.16.5 and <1.23.0 is required for this version of SciPy (detected version 1.26.0\n",
      "  warnings.warn(f\"A NumPy version >={np_minversion} and <{np_maxversion}\"\n"
     ]
    }
   ],
   "source": [
    "import pandas as pd\n",
    "import re\n",
    "import numpy as np\n",
    "import matplotlib.pyplot as plt\n",
    "import seaborn as sns\n",
    "from sklearn.linear_model import LinearRegression\n",
    "from sklearn.model_selection import train_test_split\n",
    "from sklearn.metrics import mean_squared_error, r2_score"
   ]
  },
  {
   "cell_type": "code",
   "execution_count": 2,
   "id": "3606d427",
   "metadata": {},
   "outputs": [
    {
     "data": {
      "text/html": [
       "<div>\n",
       "<style scoped>\n",
       "    .dataframe tbody tr th:only-of-type {\n",
       "        vertical-align: middle;\n",
       "    }\n",
       "\n",
       "    .dataframe tbody tr th {\n",
       "        vertical-align: top;\n",
       "    }\n",
       "\n",
       "    .dataframe thead th {\n",
       "        text-align: right;\n",
       "    }\n",
       "</style>\n",
       "<table border=\"1\" class=\"dataframe\">\n",
       "  <thead>\n",
       "    <tr style=\"text-align: right;\">\n",
       "      <th></th>\n",
       "      <th>Unnamed: 0</th>\n",
       "      <th>name</th>\n",
       "      <th>price</th>\n",
       "      <th>square</th>\n",
       "      <th>num_of_room</th>\n",
       "      <th>poverh</th>\n",
       "    </tr>\n",
       "  </thead>\n",
       "  <tbody>\n",
       "    <tr>\n",
       "      <th>0</th>\n",
       "      <td>0</td>\n",
       "      <td>NaN</td>\n",
       "      <td>220 000 $</td>\n",
       "      <td>95 м²</td>\n",
       "      <td>2</td>\n",
       "      <td>16</td>\n",
       "    </tr>\n",
       "    <tr>\n",
       "      <th>1</th>\n",
       "      <td>1</td>\n",
       "      <td>NaN</td>\n",
       "      <td>57 000 $</td>\n",
       "      <td>33 м²</td>\n",
       "      <td>1</td>\n",
       "      <td>3</td>\n",
       "    </tr>\n",
       "    <tr>\n",
       "      <th>2</th>\n",
       "      <td>2</td>\n",
       "      <td>NaN</td>\n",
       "      <td>100 000 $</td>\n",
       "      <td>45 м²</td>\n",
       "      <td>2</td>\n",
       "      <td>2</td>\n",
       "    </tr>\n",
       "    <tr>\n",
       "      <th>3</th>\n",
       "      <td>3</td>\n",
       "      <td>NaN</td>\n",
       "      <td>34 000 $</td>\n",
       "      <td>33 м²</td>\n",
       "      <td>1</td>\n",
       "      <td>5</td>\n",
       "    </tr>\n",
       "    <tr>\n",
       "      <th>4</th>\n",
       "      <td>4</td>\n",
       "      <td>NaN</td>\n",
       "      <td>73 700 $</td>\n",
       "      <td>67 м²</td>\n",
       "      <td>2</td>\n",
       "      <td>11</td>\n",
       "    </tr>\n",
       "    <tr>\n",
       "      <th>...</th>\n",
       "      <td>...</td>\n",
       "      <td>...</td>\n",
       "      <td>...</td>\n",
       "      <td>...</td>\n",
       "      <td>...</td>\n",
       "      <td>...</td>\n",
       "    </tr>\n",
       "    <tr>\n",
       "      <th>6638</th>\n",
       "      <td>6638</td>\n",
       "      <td>3 кімн в центрі Тургенівська 52/58</td>\n",
       "      <td>300 000 $</td>\n",
       "      <td>160 м²</td>\n",
       "      <td>1</td>\n",
       "      <td>4</td>\n",
       "    </tr>\n",
       "    <tr>\n",
       "      <th>6639</th>\n",
       "      <td>6639</td>\n",
       "      <td>ЖК Файна Таун, 2 кімнатна, 48м2, видова, новий...</td>\n",
       "      <td>170 000 $</td>\n",
       "      <td>48 м²</td>\n",
       "      <td>1</td>\n",
       "      <td>4</td>\n",
       "    </tr>\n",
       "    <tr>\n",
       "      <th>6640</th>\n",
       "      <td>6640</td>\n",
       "      <td>Без% Дизайнерская 2к 64м2 Гончара 75, м. Униве...</td>\n",
       "      <td>135 000 $</td>\n",
       "      <td>64 м²</td>\n",
       "      <td>1</td>\n",
       "      <td>4</td>\n",
       "    </tr>\n",
       "    <tr>\n",
       "      <th>6641</th>\n",
       "      <td>6641</td>\n",
       "      <td>Видова 2-х кім кв. у Центрі, Львівська Площа, ...</td>\n",
       "      <td>185 000 $</td>\n",
       "      <td>80 м²</td>\n",
       "      <td>1</td>\n",
       "      <td>4</td>\n",
       "    </tr>\n",
       "    <tr>\n",
       "      <th>6642</th>\n",
       "      <td>6642</td>\n",
       "      <td>Без% 93м 3к Дегтяревская 15Б, Лукьяновская, Зо...</td>\n",
       "      <td>110 000 $</td>\n",
       "      <td>93 м²</td>\n",
       "      <td>1</td>\n",
       "      <td>4</td>\n",
       "    </tr>\n",
       "  </tbody>\n",
       "</table>\n",
       "<p>6643 rows × 6 columns</p>\n",
       "</div>"
      ],
      "text/plain": [
       "      Unnamed: 0                                               name  \\\n",
       "0              0                                                NaN   \n",
       "1              1                                                NaN   \n",
       "2              2                                                NaN   \n",
       "3              3                                                NaN   \n",
       "4              4                                                NaN   \n",
       "...          ...                                                ...   \n",
       "6638        6638                 3 кімн в центрі Тургенівська 52/58   \n",
       "6639        6639  ЖК Файна Таун, 2 кімнатна, 48м2, видова, новий...   \n",
       "6640        6640  Без% Дизайнерская 2к 64м2 Гончара 75, м. Униве...   \n",
       "6641        6641  Видова 2-х кім кв. у Центрі, Львівська Площа, ...   \n",
       "6642        6642  Без% 93м 3к Дегтяревская 15Б, Лукьяновская, Зо...   \n",
       "\n",
       "          price  square  num_of_room poverh  \n",
       "0     220 000 $   95 м²            2     16  \n",
       "1      57 000 $   33 м²            1      3  \n",
       "2     100 000 $   45 м²            2      2  \n",
       "3      34 000 $   33 м²            1      5  \n",
       "4      73 700 $   67 м²            2     11  \n",
       "...         ...     ...          ...    ...  \n",
       "6638  300 000 $  160 м²            1      4  \n",
       "6639  170 000 $   48 м²            1      4  \n",
       "6640  135 000 $   64 м²            1      4  \n",
       "6641  185 000 $   80 м²            1      4  \n",
       "6642  110 000 $   93 м²            1      4  \n",
       "\n",
       "[6643 rows x 6 columns]"
      ]
     },
     "execution_count": 2,
     "metadata": {},
     "output_type": "execute_result"
    }
   ],
   "source": [
    "used = pd.read_csv('used.csv')\n",
    "used"
   ]
  },
  {
   "cell_type": "code",
   "execution_count": 3,
   "id": "f38c1d1c",
   "metadata": {},
   "outputs": [
    {
     "data": {
      "text/html": [
       "<div>\n",
       "<style scoped>\n",
       "    .dataframe tbody tr th:only-of-type {\n",
       "        vertical-align: middle;\n",
       "    }\n",
       "\n",
       "    .dataframe tbody tr th {\n",
       "        vertical-align: top;\n",
       "    }\n",
       "\n",
       "    .dataframe thead th {\n",
       "        text-align: right;\n",
       "    }\n",
       "</style>\n",
       "<table border=\"1\" class=\"dataframe\">\n",
       "  <thead>\n",
       "    <tr style=\"text-align: right;\">\n",
       "      <th></th>\n",
       "      <th>Unnamed: 0</th>\n",
       "      <th>name</th>\n",
       "      <th>price</th>\n",
       "      <th>square</th>\n",
       "      <th>num_of_room</th>\n",
       "      <th>poverh</th>\n",
       "    </tr>\n",
       "  </thead>\n",
       "  <tbody>\n",
       "    <tr>\n",
       "      <th>0</th>\n",
       "      <td>0</td>\n",
       "      <td>NaN</td>\n",
       "      <td>168 000 $</td>\n",
       "      <td>78 м²</td>\n",
       "      <td>2</td>\n",
       "      <td>12</td>\n",
       "    </tr>\n",
       "    <tr>\n",
       "      <th>1</th>\n",
       "      <td>1</td>\n",
       "      <td>NaN</td>\n",
       "      <td>60 000 $</td>\n",
       "      <td>42 м²</td>\n",
       "      <td>1</td>\n",
       "      <td>4</td>\n",
       "    </tr>\n",
       "    <tr>\n",
       "      <th>2</th>\n",
       "      <td>2</td>\n",
       "      <td>NaN</td>\n",
       "      <td>57 000 $</td>\n",
       "      <td>33 м²</td>\n",
       "      <td>1</td>\n",
       "      <td>3</td>\n",
       "    </tr>\n",
       "    <tr>\n",
       "      <th>3</th>\n",
       "      <td>3</td>\n",
       "      <td>NaN</td>\n",
       "      <td>100 000 $</td>\n",
       "      <td>45 м²</td>\n",
       "      <td>2</td>\n",
       "      <td>2</td>\n",
       "    </tr>\n",
       "    <tr>\n",
       "      <th>4</th>\n",
       "      <td>4</td>\n",
       "      <td>NaN</td>\n",
       "      <td>34 000 $</td>\n",
       "      <td>33 м²</td>\n",
       "      <td>1</td>\n",
       "      <td>5</td>\n",
       "    </tr>\n",
       "    <tr>\n",
       "      <th>...</th>\n",
       "      <td>...</td>\n",
       "      <td>...</td>\n",
       "      <td>...</td>\n",
       "      <td>...</td>\n",
       "      <td>...</td>\n",
       "      <td>...</td>\n",
       "    </tr>\n",
       "    <tr>\n",
       "      <th>6092</th>\n",
       "      <td>6092</td>\n",
       "      <td>ЖК Creator City, Продажа 2 к квартиры, ЖК Unit...</td>\n",
       "      <td>162 361 $</td>\n",
       "      <td>69.09 м²</td>\n",
       "      <td>2</td>\n",
       "      <td>21</td>\n",
       "    </tr>\n",
       "    <tr>\n",
       "      <th>6093</th>\n",
       "      <td>6093</td>\n",
       "      <td>Продам Видову 2-к квартиру 82 м² ЖК Manhattan ...</td>\n",
       "      <td>135 990 $</td>\n",
       "      <td>81.90 м²</td>\n",
       "      <td>2</td>\n",
       "      <td>22</td>\n",
       "    </tr>\n",
       "    <tr>\n",
       "      <th>6094</th>\n",
       "      <td>6094</td>\n",
       "      <td>ЖК Creator City, Продажа 2 к квартиры, ЖК Unit...</td>\n",
       "      <td>158 907 $</td>\n",
       "      <td>69.09 м²</td>\n",
       "      <td>2</td>\n",
       "      <td>18</td>\n",
       "    </tr>\n",
       "    <tr>\n",
       "      <th>6095</th>\n",
       "      <td>6095</td>\n",
       "      <td>ЖК Creator City, Продажа 2 к квартиры, Лукьяновка</td>\n",
       "      <td>153 934 $</td>\n",
       "      <td>69.34 м²</td>\n",
       "      <td>2</td>\n",
       "      <td>11</td>\n",
       "    </tr>\n",
       "    <tr>\n",
       "      <th>6096</th>\n",
       "      <td>6096</td>\n",
       "      <td>ЖК Einstein Concept House 3х кім.Центр.Цирк.Ун...</td>\n",
       "      <td>260 000 $Договірна</td>\n",
       "      <td>125.80 м²</td>\n",
       "      <td>3</td>\n",
       "      <td>7</td>\n",
       "    </tr>\n",
       "  </tbody>\n",
       "</table>\n",
       "<p>6097 rows × 6 columns</p>\n",
       "</div>"
      ],
      "text/plain": [
       "      Unnamed: 0                                               name  \\\n",
       "0              0                                                NaN   \n",
       "1              1                                                NaN   \n",
       "2              2                                                NaN   \n",
       "3              3                                                NaN   \n",
       "4              4                                                NaN   \n",
       "...          ...                                                ...   \n",
       "6092        6092  ЖК Creator City, Продажа 2 к квартиры, ЖК Unit...   \n",
       "6093        6093  Продам Видову 2-к квартиру 82 м² ЖК Manhattan ...   \n",
       "6094        6094  ЖК Creator City, Продажа 2 к квартиры, ЖК Unit...   \n",
       "6095        6095  ЖК Creator City, Продажа 2 к квартиры, Лукьяновка   \n",
       "6096        6096  ЖК Einstein Concept House 3х кім.Центр.Цирк.Ун...   \n",
       "\n",
       "                   price     square num_of_room poverh  \n",
       "0              168 000 $      78 м²           2     12  \n",
       "1               60 000 $      42 м²           1      4  \n",
       "2               57 000 $      33 м²           1      3  \n",
       "3              100 000 $      45 м²           2      2  \n",
       "4               34 000 $      33 м²           1      5  \n",
       "...                  ...        ...         ...    ...  \n",
       "6092           162 361 $   69.09 м²           2     21  \n",
       "6093           135 990 $   81.90 м²           2     22  \n",
       "6094           158 907 $   69.09 м²           2     18  \n",
       "6095           153 934 $   69.34 м²           2     11  \n",
       "6096  260 000 $Договірна  125.80 м²           3      7  \n",
       "\n",
       "[6097 rows x 6 columns]"
      ]
     },
     "execution_count": 3,
     "metadata": {},
     "output_type": "execute_result"
    }
   ],
   "source": [
    "new = pd.read_csv('new.csv')\n",
    "new"
   ]
  },
  {
   "cell_type": "code",
   "execution_count": 4,
   "id": "0c8e3faf",
   "metadata": {},
   "outputs": [],
   "source": [
    "used = used.drop(columns=['Unnamed: 0'])\n",
    "new = new.drop(columns=['Unnamed: 0'])"
   ]
  },
  {
   "cell_type": "code",
   "execution_count": 5,
   "id": "27809113",
   "metadata": {},
   "outputs": [
    {
     "name": "stdout",
     "output_type": "stream",
     "text": [
      "<class 'pandas.core.frame.DataFrame'>\n",
      "RangeIndex: 6643 entries, 0 to 6642\n",
      "Data columns (total 5 columns):\n",
      " #   Column       Non-Null Count  Dtype \n",
      "---  ------       --------------  ----- \n",
      " 0   name         1276 non-null   object\n",
      " 1   price        6643 non-null   object\n",
      " 2   square       6643 non-null   object\n",
      " 3   num_of_room  6643 non-null   int64 \n",
      " 4   poverh       6643 non-null   object\n",
      "dtypes: int64(1), object(4)\n",
      "memory usage: 259.6+ KB\n"
     ]
    }
   ],
   "source": [
    "used.info()"
   ]
  },
  {
   "cell_type": "code",
   "execution_count": 6,
   "id": "1ee4af03",
   "metadata": {},
   "outputs": [
    {
     "name": "stdout",
     "output_type": "stream",
     "text": [
      "<class 'pandas.core.frame.DataFrame'>\n",
      "RangeIndex: 6097 entries, 0 to 6096\n",
      "Data columns (total 5 columns):\n",
      " #   Column       Non-Null Count  Dtype \n",
      "---  ------       --------------  ----- \n",
      " 0   name         1192 non-null   object\n",
      " 1   price        6097 non-null   object\n",
      " 2   square       6097 non-null   object\n",
      " 3   num_of_room  6097 non-null   object\n",
      " 4   poverh       6097 non-null   object\n",
      "dtypes: object(5)\n",
      "memory usage: 238.3+ KB\n"
     ]
    }
   ],
   "source": [
    "new.info()"
   ]
  },
  {
   "cell_type": "code",
   "execution_count": 7,
   "id": "717332fa",
   "metadata": {},
   "outputs": [],
   "source": [
    "# Замініть стрінгове значення на 0 в колонці 'poverh'\n",
    "str_value_to_replace = 'Цокольний'\n",
    "used['poverh'] = used['poverh'].apply(lambda x: 0 if x == str_value_to_replace else x)"
   ]
  },
  {
   "cell_type": "code",
   "execution_count": 8,
   "id": "8009ab23",
   "metadata": {},
   "outputs": [],
   "source": [
    "# Перетворіть колонку 'poverh' в тип int\n",
    "used['poverh'] = used['poverh'].astype(int)"
   ]
  },
  {
   "cell_type": "code",
   "execution_count": 9,
   "id": "5eea3771",
   "metadata": {},
   "outputs": [
    {
     "name": "stdout",
     "output_type": "stream",
     "text": [
      "<class 'pandas.core.frame.DataFrame'>\n",
      "RangeIndex: 6643 entries, 0 to 6642\n",
      "Data columns (total 5 columns):\n",
      " #   Column       Non-Null Count  Dtype \n",
      "---  ------       --------------  ----- \n",
      " 0   name         1276 non-null   object\n",
      " 1   price        6643 non-null   object\n",
      " 2   square       6643 non-null   object\n",
      " 3   num_of_room  6643 non-null   int64 \n",
      " 4   poverh       6643 non-null   int32 \n",
      "dtypes: int32(1), int64(1), object(3)\n",
      "memory usage: 233.7+ KB\n"
     ]
    }
   ],
   "source": [
    "used.info()"
   ]
  },
  {
   "cell_type": "code",
   "execution_count": 10,
   "id": "28c32816",
   "metadata": {},
   "outputs": [],
   "source": [
    "# Функція для виділення числа з рядка\n",
    "def extract_number(text):\n",
    "    match = re.search(r'\\d+', text)  # Знайти числа у рядку\n",
    "    if match:\n",
    "        return int(match.group())  # Повернути перше знайдене число\n",
    "    return None  # Повернути None, якщо числа не знайдено\n",
    "\n",
    "# Застосуйте функцію до колонки зі стрінговими значеннями\n",
    "used['square'] = used['square'].apply(extract_number)\n",
    "used['price'] = used['price'].apply(extract_number)"
   ]
  },
  {
   "cell_type": "code",
   "execution_count": 11,
   "id": "f33583b7",
   "metadata": {},
   "outputs": [
    {
     "name": "stdout",
     "output_type": "stream",
     "text": [
      "<class 'pandas.core.frame.DataFrame'>\n",
      "RangeIndex: 6643 entries, 0 to 6642\n",
      "Data columns (total 5 columns):\n",
      " #   Column       Non-Null Count  Dtype \n",
      "---  ------       --------------  ----- \n",
      " 0   name         1276 non-null   object\n",
      " 1   price        6643 non-null   int64 \n",
      " 2   square       6643 non-null   int64 \n",
      " 3   num_of_room  6643 non-null   int64 \n",
      " 4   poverh       6643 non-null   int32 \n",
      "dtypes: int32(1), int64(3), object(1)\n",
      "memory usage: 233.7+ KB\n"
     ]
    }
   ],
   "source": [
    "used.info()"
   ]
  },
  {
   "cell_type": "code",
   "execution_count": 28,
   "id": "857ce8ef",
   "metadata": {},
   "outputs": [
    {
     "data": {
      "text/plain": [
       "2     2196\n",
       "1     2043\n",
       "3     1280\n",
       "4      394\n",
       "5      128\n",
       "6       31\n",
       "5+      11\n",
       "7        7\n",
       "10       5\n",
       "9        2\n",
       "Name: num_of_room, dtype: int64"
      ]
     },
     "execution_count": 28,
     "metadata": {},
     "output_type": "execute_result"
    }
   ],
   "source": [
    "# Виведіть кількість кожного унікального значення у колонці 'num_of_room'\n",
    "new['num_of_room'].value_counts()"
   ]
  },
  {
   "cell_type": "code",
   "execution_count": 27,
   "id": "797e53d6",
   "metadata": {},
   "outputs": [],
   "source": [
    "# Визначте підмножину, де значення більше 5 в колонці 'num_of_room', але виключіть значення '5+'\n",
    "subset = new[(new['num_of_room'] != '5+') & new['num_of_room'].str.isnumeric()]\n",
    "\n",
    "# Обчисліть середнє значення цієї підмножини\n",
    "average_value = subset['num_of_room'].astype(int).mean()\n",
    "\n",
    "# Замініть всі значення \"5+\" у колонці 'num_of_room' на середнє значення\n",
    "new.loc[new['num_of_room'] == '5+', 'num_of_room'] = average_value\n",
    "\n",
    "# Перетворення з типу об'єкт до int\n",
    "new['num_of_room'] = new['num_of_room'].astype(int)"
   ]
  },
  {
   "cell_type": "code",
   "execution_count": 28,
   "id": "3c1c48aa",
   "metadata": {},
   "outputs": [
    {
     "name": "stdout",
     "output_type": "stream",
     "text": [
      "<class 'pandas.core.frame.DataFrame'>\n",
      "RangeIndex: 6097 entries, 0 to 6096\n",
      "Data columns (total 5 columns):\n",
      " #   Column       Non-Null Count  Dtype \n",
      "---  ------       --------------  ----- \n",
      " 0   name         1192 non-null   object\n",
      " 1   price        6097 non-null   object\n",
      " 2   square       6097 non-null   object\n",
      " 3   num_of_room  6097 non-null   int32 \n",
      " 4   poverh       6097 non-null   object\n",
      "dtypes: int32(1), object(4)\n",
      "memory usage: 214.5+ KB\n"
     ]
    }
   ],
   "source": [
    "new.info()"
   ]
  },
  {
   "cell_type": "code",
   "execution_count": 31,
   "id": "2befb2b1",
   "metadata": {},
   "outputs": [],
   "source": [
    "new['poverh'] = new['poverh'].apply(lambda x: 0 if x == str_value_to_replace else x)\n",
    "new['poverh'] = new['poverh'].astype(int)"
   ]
  },
  {
   "cell_type": "code",
   "execution_count": 32,
   "id": "bfa7b049",
   "metadata": {},
   "outputs": [],
   "source": [
    "new['square'] = new['square'].apply(extract_number)\n",
    "new['price'] = new['price'].apply(extract_number)"
   ]
  },
  {
   "cell_type": "code",
   "execution_count": 33,
   "id": "fb5f84a4",
   "metadata": {},
   "outputs": [
    {
     "name": "stdout",
     "output_type": "stream",
     "text": [
      "<class 'pandas.core.frame.DataFrame'>\n",
      "RangeIndex: 6097 entries, 0 to 6096\n",
      "Data columns (total 5 columns):\n",
      " #   Column       Non-Null Count  Dtype \n",
      "---  ------       --------------  ----- \n",
      " 0   name         1192 non-null   object\n",
      " 1   price        6097 non-null   int64 \n",
      " 2   square       6097 non-null   int64 \n",
      " 3   num_of_room  6097 non-null   int32 \n",
      " 4   poverh       6097 non-null   int32 \n",
      "dtypes: int32(2), int64(2), object(1)\n",
      "memory usage: 190.7+ KB\n"
     ]
    }
   ],
   "source": [
    "new.info()"
   ]
  },
  {
   "cell_type": "code",
   "execution_count": 37,
   "id": "d38f48ba",
   "metadata": {},
   "outputs": [],
   "source": [
    "# Додайте колонку 'стан' до обох датасетів і заповніть її значеннями 1 і 0 відповідно\n",
    "new['state'] = 1\n",
    "used['state'] = 0\n",
    "\n",
    "# Об'єднайте обидва датасети за допомогою методу concat\n",
    "data = pd.concat([new, used])"
   ]
  },
  {
   "cell_type": "code",
   "execution_count": 38,
   "id": "9829c06a",
   "metadata": {},
   "outputs": [
    {
     "data": {
      "text/html": [
       "<div>\n",
       "<style scoped>\n",
       "    .dataframe tbody tr th:only-of-type {\n",
       "        vertical-align: middle;\n",
       "    }\n",
       "\n",
       "    .dataframe tbody tr th {\n",
       "        vertical-align: top;\n",
       "    }\n",
       "\n",
       "    .dataframe thead th {\n",
       "        text-align: right;\n",
       "    }\n",
       "</style>\n",
       "<table border=\"1\" class=\"dataframe\">\n",
       "  <thead>\n",
       "    <tr style=\"text-align: right;\">\n",
       "      <th></th>\n",
       "      <th>name</th>\n",
       "      <th>price</th>\n",
       "      <th>square</th>\n",
       "      <th>num_of_room</th>\n",
       "      <th>poverh</th>\n",
       "      <th>state</th>\n",
       "    </tr>\n",
       "  </thead>\n",
       "  <tbody>\n",
       "    <tr>\n",
       "      <th>0</th>\n",
       "      <td>NaN</td>\n",
       "      <td>168</td>\n",
       "      <td>78</td>\n",
       "      <td>2</td>\n",
       "      <td>12</td>\n",
       "      <td>1</td>\n",
       "    </tr>\n",
       "    <tr>\n",
       "      <th>1</th>\n",
       "      <td>NaN</td>\n",
       "      <td>60</td>\n",
       "      <td>42</td>\n",
       "      <td>1</td>\n",
       "      <td>4</td>\n",
       "      <td>1</td>\n",
       "    </tr>\n",
       "    <tr>\n",
       "      <th>2</th>\n",
       "      <td>NaN</td>\n",
       "      <td>57</td>\n",
       "      <td>33</td>\n",
       "      <td>1</td>\n",
       "      <td>3</td>\n",
       "      <td>1</td>\n",
       "    </tr>\n",
       "    <tr>\n",
       "      <th>3</th>\n",
       "      <td>NaN</td>\n",
       "      <td>100</td>\n",
       "      <td>45</td>\n",
       "      <td>2</td>\n",
       "      <td>2</td>\n",
       "      <td>1</td>\n",
       "    </tr>\n",
       "    <tr>\n",
       "      <th>4</th>\n",
       "      <td>NaN</td>\n",
       "      <td>34</td>\n",
       "      <td>33</td>\n",
       "      <td>1</td>\n",
       "      <td>5</td>\n",
       "      <td>1</td>\n",
       "    </tr>\n",
       "    <tr>\n",
       "      <th>...</th>\n",
       "      <td>...</td>\n",
       "      <td>...</td>\n",
       "      <td>...</td>\n",
       "      <td>...</td>\n",
       "      <td>...</td>\n",
       "      <td>...</td>\n",
       "    </tr>\n",
       "    <tr>\n",
       "      <th>6638</th>\n",
       "      <td>3 кімн в центрі Тургенівська 52/58</td>\n",
       "      <td>300</td>\n",
       "      <td>160</td>\n",
       "      <td>1</td>\n",
       "      <td>4</td>\n",
       "      <td>0</td>\n",
       "    </tr>\n",
       "    <tr>\n",
       "      <th>6639</th>\n",
       "      <td>ЖК Файна Таун, 2 кімнатна, 48м2, видова, новий...</td>\n",
       "      <td>170</td>\n",
       "      <td>48</td>\n",
       "      <td>1</td>\n",
       "      <td>4</td>\n",
       "      <td>0</td>\n",
       "    </tr>\n",
       "    <tr>\n",
       "      <th>6640</th>\n",
       "      <td>Без% Дизайнерская 2к 64м2 Гончара 75, м. Униве...</td>\n",
       "      <td>135</td>\n",
       "      <td>64</td>\n",
       "      <td>1</td>\n",
       "      <td>4</td>\n",
       "      <td>0</td>\n",
       "    </tr>\n",
       "    <tr>\n",
       "      <th>6641</th>\n",
       "      <td>Видова 2-х кім кв. у Центрі, Львівська Площа, ...</td>\n",
       "      <td>185</td>\n",
       "      <td>80</td>\n",
       "      <td>1</td>\n",
       "      <td>4</td>\n",
       "      <td>0</td>\n",
       "    </tr>\n",
       "    <tr>\n",
       "      <th>6642</th>\n",
       "      <td>Без% 93м 3к Дегтяревская 15Б, Лукьяновская, Зо...</td>\n",
       "      <td>110</td>\n",
       "      <td>93</td>\n",
       "      <td>1</td>\n",
       "      <td>4</td>\n",
       "      <td>0</td>\n",
       "    </tr>\n",
       "  </tbody>\n",
       "</table>\n",
       "<p>12740 rows × 6 columns</p>\n",
       "</div>"
      ],
      "text/plain": [
       "                                                   name  price  square  \\\n",
       "0                                                   NaN    168      78   \n",
       "1                                                   NaN     60      42   \n",
       "2                                                   NaN     57      33   \n",
       "3                                                   NaN    100      45   \n",
       "4                                                   NaN     34      33   \n",
       "...                                                 ...    ...     ...   \n",
       "6638                 3 кімн в центрі Тургенівська 52/58    300     160   \n",
       "6639  ЖК Файна Таун, 2 кімнатна, 48м2, видова, новий...    170      48   \n",
       "6640  Без% Дизайнерская 2к 64м2 Гончара 75, м. Униве...    135      64   \n",
       "6641  Видова 2-х кім кв. у Центрі, Львівська Площа, ...    185      80   \n",
       "6642  Без% 93м 3к Дегтяревская 15Б, Лукьяновская, Зо...    110      93   \n",
       "\n",
       "      num_of_room  poverh  state  \n",
       "0               2      12      1  \n",
       "1               1       4      1  \n",
       "2               1       3      1  \n",
       "3               2       2      1  \n",
       "4               1       5      1  \n",
       "...           ...     ...    ...  \n",
       "6638            1       4      0  \n",
       "6639            1       4      0  \n",
       "6640            1       4      0  \n",
       "6641            1       4      0  \n",
       "6642            1       4      0  \n",
       "\n",
       "[12740 rows x 6 columns]"
      ]
     },
     "execution_count": 38,
     "metadata": {},
     "output_type": "execute_result"
    }
   ],
   "source": [
    "data"
   ]
  },
  {
   "cell_type": "code",
   "execution_count": 44,
   "id": "1ac14613",
   "metadata": {},
   "outputs": [],
   "source": [
    "#видалення дублікатів\n",
    "data = data.drop_duplicates()"
   ]
  },
  {
   "cell_type": "code",
   "execution_count": 49,
   "id": "1fbda9b3",
   "metadata": {},
   "outputs": [
    {
     "name": "stdout",
     "output_type": "stream",
     "text": [
      "             price        square   num_of_room       poverh        state\n",
      "count  9860.000000    9860.00000   9860.000000  9860.000000  9860.000000\n",
      "mean    181.206085     105.50355     10.926775     8.614199     0.482556\n",
      "std     139.850316    1637.45131    876.137660     6.648938     0.499721\n",
      "min       1.000000       1.00000      1.000000     0.000000     0.000000\n",
      "25%      94.000000      50.00000      1.000000     4.000000     0.000000\n",
      "50%     145.500000      70.00000      2.000000     6.000000     0.000000\n",
      "75%     215.000000      95.00000      3.000000    13.000000     1.000000\n",
      "max     999.000000  115000.00000  87000.000000    36.000000     1.000000\n"
     ]
    },
    {
     "data": {
      "image/png": "[encoded data removed]",
      "text/plain": [
       "<Figure size 432x288 with 2 Axes>"
      ]
     },
     "metadata": {
      "needs_background": "light"
     },
     "output_type": "display_data"
    },
    {
     "name": "stdout",
     "output_type": "stream",
     "text": [
      "Mean Squared Error: 21098.40264662594\n",
      "R-squared: -0.0013483256423560963\n"
     ]
    },
    {
     "data": {
      "image/png": "[encoded data removed]",
      "text/plain": [
       "<Figure size 432x288 with 1 Axes>"
      ]
     },
     "metadata": {
      "needs_background": "light"
     },
     "output_type": "display_data"
    }
   ],
   "source": [
    "# Описовий аналіз\n",
    "print(data.describe())\n",
    "\n",
    "\n",
    "\n",
    "# Кореляційний аналіз\n",
    "correlation_matrix = data.corr()\n",
    "sns.heatmap(correlation_matrix, annot=True)\n",
    "plt.show()\n",
    "\n",
    "# Регресійний аналіз\n",
    "X = data[['square', 'num_of_room', 'poverh', 'state']]\n",
    "y = data['price']\n",
    "\n",
    "X_train, X_test, y_train, y_test = train_test_split(X, y, test_size=0.2, random_state=42)\n",
    "model = LinearRegression()\n",
    "model.fit(X_train, y_train)\n",
    "\n",
    "y_pred = model.predict(X_test)\n",
    "\n",
    "print(\"Mean Squared Error:\", mean_squared_error(y_test, y_pred))\n",
    "print(\"R-squared:\", r2_score(y_test, y_pred))\n",
    "\n",
    "# Аналіз розподілу цін\n",
    "plt.hist(data['price'], bins=20)\n",
    "plt.xlabel('Ціна')\n",
    "plt.ylabel('Частота')\n",
    "plt.show()"
   ]
  },
  {
   "cell_type": "code",
   "execution_count": 47,
   "id": "d0f33d3c",
   "metadata": {},
   "outputs": [
    {
     "name": "stdout",
     "output_type": "stream",
     "text": [
      "<class 'pandas.core.frame.DataFrame'>\n",
      "Int64Index: 9860 entries, 0 to 6639\n",
      "Data columns (total 6 columns):\n",
      " #   Column       Non-Null Count  Dtype \n",
      "---  ------       --------------  ----- \n",
      " 0   name         1970 non-null   object\n",
      " 1   price        9860 non-null   int64 \n",
      " 2   square       9860 non-null   int64 \n",
      " 3   num_of_room  9860 non-null   int64 \n",
      " 4   poverh       9860 non-null   int32 \n",
      " 5   state        9860 non-null   int64 \n",
      "dtypes: int32(1), int64(4), object(1)\n",
      "memory usage: 758.7+ KB\n"
     ]
    }
   ],
   "source": []
  },
  {
   "cell_type": "code",
   "execution_count": null,
   "id": "9d99880b",
   "metadata": {},
   "outputs": [],
   "source": []
  }
 ],
 "metadata": {
  "kernelspec": {
   "display_name": "Python 3 (ipykernel)",
   "language": "python",
   "name": "python3"
  },
  "language_info": {
   "codemirror_mode": {
    "name": "ipython",
    "version": 3
   },
   "file_extension": ".py",
   "mimetype": "text/x-python",
   "name": "python",
   "nbconvert_exporter": "python",
   "pygments_lexer": "ipython3",
   "version": "3.9.7"
  }
 },
 "nbformat": 4,
 "nbformat_minor": 5
}
